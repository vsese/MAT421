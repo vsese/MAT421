{
  "nbformat": 4,
  "nbformat_minor": 0,
  "metadata": {
    "colab": {
      "provenance": [],
      "authorship_tag": "ABX9TyM8i0HL2OI+I6/1gcySUOTc",
      "include_colab_link": true
    },
    "kernelspec": {
      "name": "python3",
      "display_name": "Python 3"
    },
    "language_info": {
      "name": "python"
    }
  },
  "cells": [
    {
      "cell_type": "markdown",
      "metadata": {
        "id": "view-in-github",
        "colab_type": "text"
      },
      "source": [
        "<a href=\"https://colab.research.google.com/github/vsese/MAT421-S2024/blob/main/Module_A.ipynb\" target=\"_parent\"><img src=\"https://colab.research.google.com/assets/colab-badge.svg\" alt=\"Open In Colab\"/></a>"
      ]
    },
    {
      "cell_type": "markdown",
      "source": [
        "# 9.1 Base-N and Binary\n",
        "\n",
        " The most common base-N is of course base-10, which is decimal. Other bases, such as base-2 a.k.a. binary, can be used. Computers deal in binary, and often decimal number will have to be translated to binary and vice versa."
      ],
      "metadata": {
        "id": "82zZcjivzIsj"
      }
    },
    {
      "cell_type": "code",
      "execution_count": 49,
      "metadata": {
        "colab": {
          "base_uri": "https://localhost:8080/"
        },
        "id": "Z8uxGGYZzGyg",
        "outputId": "1e9e49e8-fc10-4bec-806a-6750bda4cacc"
      },
      "outputs": [
        {
          "output_type": "stream",
          "name": "stdout",
          "text": [
            "909.72\n",
            "22\n"
          ]
        }
      ],
      "source": [
        "# Expanded representation of the decimal number 909.72\n",
        "i = 9 * pow(10,2) + 0 * pow(10,1) + 9 * pow(10,0) + 7 * pow(10,-1) + 2 * pow(10,-2)\n",
        "print(i)\n",
        "\n",
        "# Expanded representation of binary number 10110\n",
        "i = 1 * pow(2,4) + 0 * pow(2,3) + 1 * pow(2,2) + 1 * pow(2,1) + 0 * pow(2,0)\n",
        "print(i)\n",
        "# Since the math done by this program is decimal based, adding up all of the\n",
        "# numbers returns a decimal number version of the binary number."
      ]
    },
    {
      "cell_type": "markdown",
      "source": [
        "Below is code that converts binary to decimal."
      ],
      "metadata": {
        "id": "DnXVN-tGDTh_"
      }
    },
    {
      "cell_type": "code",
      "source": [
        "def my_bin_2_dec(b):\n",
        "  i = len(b)\n",
        "  #print(i)\n",
        "  #print(b)\n",
        "  d = 0\n",
        "  while i > 0:\n",
        "    i = i - 1\n",
        "    d += pow(2*b[i],i)\n",
        "  print(d)\n",
        "  return d\n",
        "\n",
        "# 111 binary to decimal\n",
        "my_bin_2_dec([1,1,1])\n",
        "\n",
        "# 1010101 binary to decimal\n",
        "my_bin_2_dec([1,0,1,0,1,0,1])\n",
        "\n",
        "# 1.111... * 2^25 binary to decimal\n",
        "my_bin_2_dec([1]*25)\n"
      ],
      "metadata": {
        "colab": {
          "base_uri": "https://localhost:8080/"
        },
        "id": "HYtIHvSnzNA8",
        "outputId": "00e0e02f-6a00-4a6b-ba26-0c92d89fd739"
      },
      "execution_count": 52,
      "outputs": [
        {
          "output_type": "stream",
          "name": "stdout",
          "text": [
            "7\n",
            "85\n",
            "33554431\n"
          ]
        },
        {
          "output_type": "execute_result",
          "data": {
            "text/plain": [
              "33554431"
            ]
          },
          "metadata": {},
          "execution_count": 52
        }
      ]
    },
    {
      "cell_type": "markdown",
      "source": [
        "Now, converting from decimal to binary. The code will return a list that consists of binary digits.\n",
        "\n"
      ],
      "metadata": {
        "id": "Hf5Lh4wN7dZF"
      }
    },
    {
      "cell_type": "code",
      "source": [
        "def my_dec_2_bin(d):\n",
        "  i = 0\n",
        "  b = [0]\n",
        "  n = 0\n",
        "\n",
        "  # While loop to find length of binary number list\n",
        "  while(d - pow(2,n) > 0):\n",
        "    n = n + 1\n",
        "    #print(n)\n",
        "\n",
        "  b = [0 for k in range(0,n)]\n",
        "  #print(b)\n",
        "\n",
        "  # Fills out binary list with 1's in appropriate indices.\n",
        "  while(d > 0):\n",
        "    while(d - pow(2,i) >= 0):\n",
        "      i = i + 1\n",
        "    b[i-1] = 1\n",
        "    d = d - pow(2, i - 1)\n",
        "    i = 0\n",
        "\n",
        "  b.reverse()\n",
        "  return b\n",
        "\n",
        "my_dec_2_bin(1491)"
      ],
      "metadata": {
        "colab": {
          "base_uri": "https://localhost:8080/"
        },
        "id": "9KPgSHlw7cFm",
        "outputId": "02b52b7a-c7cb-447f-fb0e-013e1eda8ee8"
      },
      "execution_count": 45,
      "outputs": [
        {
          "output_type": "execute_result",
          "data": {
            "text/plain": [
              "[1, 0, 1, 1, 1, 0, 1, 0, 0, 1, 1]"
            ]
          },
          "metadata": {},
          "execution_count": 45
        }
      ]
    },
    {
      "cell_type": "markdown",
      "source": [
        "# 9.2 Floating point numbers\n",
        "\n",
        "Floating point numbers allow more precise numbers that contain small decimal values. IEEE754 is a way to represent a floating point number.\n",
        "\n",
        "1 bit is used for the sign (0 would be positive, 1 would be negative), 11 bits are used for the exponent (11-bit number - 1024 = exponent), and the remaining 52 bits are used for the fraction, (Summation of (number[i] * 1/2^i)).\n",
        "\n",
        "14.0 (base10) represented by\n",
        "- Sign ----------> 0\n",
        "- Exponent --> 10000000010\n",
        "- Fraction ----> 1100000000000000000000000000000000000000000000000000\n",
        "\n",
        "The largest number that is smaller than 14.0 would contain a fraction that is minimally smaller than 1.75.\n",
        "\n",
        "14.0 (base10) represented by\n",
        "- Sign ----------> 0\n",
        "- Exponent --> 10000000010\n",
        "- Fraction ----> 1011111111111111111111111111111111111111111111111111\n",
        "\n",
        "The smallest number that is largest than 14.0 would be the same IEEE754 number as 14.0 but with a 1 at the end of the fraction, which would add 1/2^52 to the fraction value.\n",
        "\n",
        "- Sign ----------> 0\n",
        "- Exponent --> 10000000010\n",
        "- Fraction ----> 1100000000000000000000000000000000000000000000000001\n",
        "\n",
        "Though these numbers are much more accurate, they still cannot be completely precise and will round off. Anything half-way between 14.0 and the next smallest/largest number will be rounded to 14.0."
      ],
      "metadata": {
        "id": "7SCQ7yPBEnXA"
      }
    },
    {
      "cell_type": "code",
      "source": [
        "# 14.0 in IEEE754\n",
        "# 0100000000110000000000000000000000000000000000000000000000000000\n",
        "\n",
        "i = 14.0\n",
        "# largest number smaller than 14.0\n",
        "ii = 14.0 - pow(2,-52)\n",
        "# smallest number larger than 14.0\n",
        "iii = 14.0 + pow(2,-52)\n",
        "n = pow(2,-52)\n",
        "\n",
        "# Though the pow(2,-52) has been added to each number, it is not displayed.\n",
        "print(i)\n",
        "print(ii)\n",
        "print(iii)\n",
        "print(n)"
      ],
      "metadata": {
        "colab": {
          "base_uri": "https://localhost:8080/"
        },
        "id": "FHX5pipxSVLv",
        "outputId": "878d8071-8b33-413b-a8ce-04d7d64bd7f8"
      },
      "execution_count": 83,
      "outputs": [
        {
          "output_type": "stream",
          "name": "stdout",
          "text": [
            "14.0\n",
            "14.0\n",
            "14.0\n",
            "2.220446049250313e-16\n"
          ]
        }
      ]
    },
    {
      "cell_type": "markdown",
      "source": [
        "# 9.3 Round-off Errors\n",
        "\n",
        "Numbers do not have perfect precision when stored, which leads to a discrepancy in intended value."
      ],
      "metadata": {
        "id": "V6iQWzwQeNtz"
      }
    },
    {
      "cell_type": "code",
      "source": [
        "print(8.9 - 8.880 == 0.020)\n",
        "\n",
        "print(8.9 - 8.880)\n",
        "\n",
        "# Solve using round\n",
        "print(round(8.9 - 8.880,5))"
      ],
      "metadata": {
        "colab": {
          "base_uri": "https://localhost:8080/"
        },
        "id": "p_6ESNXIkHDN",
        "outputId": "ea3c301b-b708-4795-e521-d967c7b788f3"
      },
      "execution_count": 90,
      "outputs": [
        {
          "output_type": "stream",
          "name": "stdout",
          "text": [
            "False\n",
            "0.019999999999999574\n",
            "0.02\n"
          ]
        }
      ]
    },
    {
      "cell_type": "markdown",
      "source": [
        "Accumulation of round-off errors can magnify the error very quickly, resulting in completely inaccurate results."
      ],
      "metadata": {
        "id": "OdA9XFrJkmPl"
      }
    },
    {
      "cell_type": "code",
      "source": [
        "k = 10\n",
        "\n",
        "while(k <= 1000000):\n",
        "  i = 0\n",
        "  n = 14.0 - 13.990\n",
        "  for i in range(k):\n",
        "    n = n - 13.990\n",
        "\n",
        "  for i in range(k):\n",
        "    n = n + 13.990\n",
        "\n",
        "  k = k * 10\n",
        "  print(n)\n"
      ],
      "metadata": {
        "colab": {
          "base_uri": "https://localhost:8080/"
        },
        "id": "XiYFzgf6l7TS",
        "outputId": "5722564c-b7e8-42dc-d0c0-abfca96cb2d6"
      },
      "execution_count": 112,
      "outputs": [
        {
          "output_type": "stream",
          "name": "stdout",
          "text": [
            "0.009999999999994458\n",
            "0.010000000000108145\n",
            "0.009999999998971276\n",
            "0.010000000009885213\n",
            "0.009999999951677552\n",
            "0.010000000417338839\n"
          ]
        }
      ]
    }
  ]
}