{
  "nbformat": 4,
  "nbformat_minor": 0,
  "metadata": {
    "colab": {
      "provenance": [],
      "authorship_tag": "ABX9TyPjuobl+Z3WekGbjrl9neUP",
      "include_colab_link": true
    },
    "kernelspec": {
      "name": "python3",
      "display_name": "Python 3"
    },
    "language_info": {
      "name": "python"
    }
  },
  "cells": [
    {
      "cell_type": "markdown",
      "metadata": {
        "id": "view-in-github",
        "colab_type": "text"
      },
      "source": [
        "<a href=\"https://colab.research.google.com/github/vsese/MAT421-S2024/blob/main/Module_C_Homework.ipynb\" target=\"_parent\"><img src=\"https://colab.research.google.com/assets/colab-badge.svg\" alt=\"Open In Colab\"/></a>"
      ]
    },
    {
      "cell_type": "markdown",
      "source": [
        "# 19.1 Root Finding Problem Statement\n",
        "\n",
        "The root of a function can also be thought of as the zero of the function, where a root value x would make the function equal to 0. For some equations, such as f(x) = x^2 - 9, the solution is simple and exact. Other functions prove more difficult, like f(x) = cos(x) - x, since there is not a simple way to get the exact solution. This is where numerical approximations of roots come in handy."
      ],
      "metadata": {
        "id": "GB-IGYGWpfW9"
      }
    },
    {
      "cell_type": "code",
      "execution_count": 2,
      "metadata": {
        "colab": {
          "base_uri": "https://localhost:8080/"
        },
        "id": "6I_LmZEUpRAY",
        "outputId": "f1e70413-b09c-461d-fc4b-7d3cd8c3901a"
      },
      "outputs": [
        {
          "output_type": "stream",
          "name": "stdout",
          "text": [
            "r = [0.73908513]\n",
            "result= [0.]\n"
          ]
        }
      ],
      "source": [
        "import numpy as np\n",
        "from scipy import optimize\n",
        "\n",
        "# Below is the textbook code and solution to f(x) = cos(x) - x.\n",
        "f = lambda x: np.cos(x) - x\n",
        "r = optimize.fsolve(f, -2)\n",
        "print(\"r =\", r)\n",
        "\n",
        "# The root is determined to be approximately x = 0.73908513.\n",
        "result = f(r)\n",
        "print(\"result=\", result)"
      ]
    },
    {
      "cell_type": "markdown",
      "source": [
        "Some functions have no root, like f(x) = 1/x, as they do not have a value of x that would make f(x) = 0. In these cases, generating a root simply returns an error as well as incorrect root values. Below is a textbook code example that shows what is returned in this case."
      ],
      "metadata": {
        "id": "kGAPwMsI0Dre"
      }
    },
    {
      "cell_type": "code",
      "source": [
        "f = lambda x: 1/x\n",
        "\n",
        "r, infodict, ier, mesg = optimize.fsolve(f, -2, full_output=True)\n",
        "print(\"r =\", r)\n",
        "\n",
        "result = f(r)\n",
        "print(\"result=\", result)\n",
        "\n",
        "print(mesg)"
      ],
      "metadata": {
        "colab": {
          "base_uri": "https://localhost:8080/"
        },
        "id": "MWLuy8mR0dRk",
        "outputId": "6a42ff1f-cf88-43be-8570-de44904121ce"
      },
      "execution_count": 3,
      "outputs": [
        {
          "output_type": "stream",
          "name": "stdout",
          "text": [
            "r = [-3.52047359e+83]\n",
            "result= [-2.84052692e-84]\n",
            "The number of calls to function has reached maxfev = 400.\n"
          ]
        }
      ]
    },
    {
      "cell_type": "markdown",
      "source": [
        "# 19.2 Tolerance\n",
        "\n",
        "Due to the nature of approximation, there will generally be some sort of error in a computed value. Because of this, a tolerance is set so that an acceptable solution will be found within a certain tolerance. For example the function, f(x) = x^2 + tol/2, has no roots but since the function contains a value near 0 within tolerance, the value f(0) is accepted since |f(0)| < tol."
      ],
      "metadata": {
        "id": "lRhwTD7V01-l"
      }
    },
    {
      "cell_type": "markdown",
      "source": [
        "# 19.3 Bisection Method\n",
        "\n",
        "**Intermediate Value Theorem:**\n",
        "Given that a function *f*(x) is continuous between a and b, and *f*(a) and *f*(b) have opposite signs, then there must be a value c such that a < c < b and *f*(c) = 0.\n",
        "\n",
        "The **bisection method** uses the Intermediate Value Theorem iteratively to solve the root for a function *f*(x). Below is a function from the book that takes in a function, two bounding variables a and b, and a tolerance."
      ],
      "metadata": {
        "id": "8GI8e2k3_HsA"
      }
    },
    {
      "cell_type": "code",
      "source": [
        "import numpy as np\n",
        "\n",
        "def my_bisection(f, a, b, tol):\n",
        "\n",
        "  # Below checks if a and b bind a root / have\n",
        "  # opposite signs.\n",
        "  if np.sign(f(a)) == np.sign(f(b)):\n",
        "    raise Exception(\"The scalars a and b do not bound a root\")\n",
        "\n",
        "  m = (a+b)/2\n",
        "\n",
        "  if np.abs(f(m)) < tol:\n",
        "    # End function since the value of f(m) is less than tolerance.\n",
        "    # Will return accepted value\n",
        "    return m\n",
        "  elif np.sign(f(a)) == np.sign(f(m)):\n",
        "    # m is between a and 0, so a recursive call is made with a = m.\n",
        "    return my_bisection(f, m, b, tol)\n",
        "  elif np.sign(f(b)) == np.sign(f(m)):\n",
        "    # m is between b and 0, so a recursive call is made with b = m.\n",
        "    return my_bisection(f, a, m, tol)\n",
        "\n",
        "# Computing the root of f(x) = x^2 - 2 with tolerances of 0.1 and 0.01.\n",
        "# Since we know the root is going to be at x = 2^(1/2), we can set the\n",
        "# bounds to be 0 to 2.\n",
        "f = lambda x: x**2 - 2\n",
        "\n",
        "r1 = my_bisection(f, 0, 2, 0.1)\n",
        "print(\"r1 =\", r1)\n",
        "r01 = my_bisection(f, 0, 2, 0.01)\n",
        "print(\"r01 =\", r01)\n",
        "\n",
        "print(\"f(r1) = \", f(r1))\n",
        "print(\"f(r1) = \", f(r01))\n",
        "\n",
        "# Using different bounds that do not contain a root, such as a = 2 and b = 4,\n",
        "# an exception will get thrown.\n",
        "\n",
        "my_bisection(f, 2, 4, 0.01)"
      ],
      "metadata": {
        "colab": {
          "base_uri": "https://localhost:8080/",
          "height": 401
        },
        "id": "lUqYWtcHP_GD",
        "outputId": "1d2a8c03-c95e-4d35-88c6-838f58b8cde5"
      },
      "execution_count": 5,
      "outputs": [
        {
          "output_type": "stream",
          "name": "stdout",
          "text": [
            "r1 = 1.4375\n",
            "r01 = 1.4140625\n",
            "f(r1) =  0.06640625\n",
            "f(r1) =  -0.00042724609375\n"
          ]
        },
        {
          "output_type": "error",
          "ename": "Exception",
          "evalue": "The scalars a and b do not bound a root",
          "traceback": [
            "\u001b[0;31m---------------------------------------------------------------------------\u001b[0m",
            "\u001b[0;31mException\u001b[0m                                 Traceback (most recent call last)",
            "\u001b[0;32m<ipython-input-5-5561ba86c382>\u001b[0m in \u001b[0;36m<cell line: 39>\u001b[0;34m()\u001b[0m\n\u001b[1;32m     37\u001b[0m \u001b[0;31m# an exception will get thrown.\u001b[0m\u001b[0;34m\u001b[0m\u001b[0;34m\u001b[0m\u001b[0m\n\u001b[1;32m     38\u001b[0m \u001b[0;34m\u001b[0m\u001b[0m\n\u001b[0;32m---> 39\u001b[0;31m \u001b[0mmy_bisection\u001b[0m\u001b[0;34m(\u001b[0m\u001b[0mf\u001b[0m\u001b[0;34m,\u001b[0m \u001b[0;36m2\u001b[0m\u001b[0;34m,\u001b[0m \u001b[0;36m4\u001b[0m\u001b[0;34m,\u001b[0m \u001b[0;36m0.01\u001b[0m\u001b[0;34m)\u001b[0m\u001b[0;34m\u001b[0m\u001b[0;34m\u001b[0m\u001b[0m\n\u001b[0m",
            "\u001b[0;32m<ipython-input-5-5561ba86c382>\u001b[0m in \u001b[0;36mmy_bisection\u001b[0;34m(f, a, b, tol)\u001b[0m\n\u001b[1;32m      6\u001b[0m   \u001b[0;31m# opposite signs.\u001b[0m\u001b[0;34m\u001b[0m\u001b[0;34m\u001b[0m\u001b[0m\n\u001b[1;32m      7\u001b[0m   \u001b[0;32mif\u001b[0m \u001b[0mnp\u001b[0m\u001b[0;34m.\u001b[0m\u001b[0msign\u001b[0m\u001b[0;34m(\u001b[0m\u001b[0mf\u001b[0m\u001b[0;34m(\u001b[0m\u001b[0ma\u001b[0m\u001b[0;34m)\u001b[0m\u001b[0;34m)\u001b[0m \u001b[0;34m==\u001b[0m \u001b[0mnp\u001b[0m\u001b[0;34m.\u001b[0m\u001b[0msign\u001b[0m\u001b[0;34m(\u001b[0m\u001b[0mf\u001b[0m\u001b[0;34m(\u001b[0m\u001b[0mb\u001b[0m\u001b[0;34m)\u001b[0m\u001b[0;34m)\u001b[0m\u001b[0;34m:\u001b[0m\u001b[0;34m\u001b[0m\u001b[0;34m\u001b[0m\u001b[0m\n\u001b[0;32m----> 8\u001b[0;31m     \u001b[0;32mraise\u001b[0m \u001b[0mException\u001b[0m\u001b[0;34m(\u001b[0m\u001b[0;34m\"The scalars a and b do not bound a root\"\u001b[0m\u001b[0;34m)\u001b[0m\u001b[0;34m\u001b[0m\u001b[0;34m\u001b[0m\u001b[0m\n\u001b[0m\u001b[1;32m      9\u001b[0m \u001b[0;34m\u001b[0m\u001b[0m\n\u001b[1;32m     10\u001b[0m   \u001b[0mm\u001b[0m \u001b[0;34m=\u001b[0m \u001b[0;34m(\u001b[0m\u001b[0ma\u001b[0m\u001b[0;34m+\u001b[0m\u001b[0mb\u001b[0m\u001b[0;34m)\u001b[0m\u001b[0;34m/\u001b[0m\u001b[0;36m2\u001b[0m\u001b[0;34m\u001b[0m\u001b[0;34m\u001b[0m\u001b[0m\n",
            "\u001b[0;31mException\u001b[0m: The scalars a and b do not bound a root"
          ]
        }
      ]
    },
    {
      "cell_type": "markdown",
      "source": [
        "# 19.4 Newton-Raphson Method\n",
        "\n",
        "If *f*(x) is a smooth continuous function such that x.r is a root for *f*(x), then one can make a guess, x0, for that root. This guess is of course almost never correct, but steps can be taken to improve from there. Using the linear approximation of *f*(x) around x0, which is *f*(x) ~= *f*(x0) + *f'*(x0)(x1 - x0), and then setting *f*(x) = 0, we get the equation 0 = *f*(x0) + *f'*(x0)(x1 - x0). This can be rewritten as x1 = x0 - *f*(x0)/*f'*(x0). The Newton-Raphson method takes an improved guess, xi, such that xi = xi-1 - *g*(xi-1)/*g'*(xi-1). Then, this is iterated until a root within error tolerance is found. Below is code from the book that will use this method."
      ],
      "metadata": {
        "id": "mDo3PMeXQB09"
      }
    },
    {
      "cell_type": "code",
      "source": [
        "import numpy as np\n",
        "\n",
        "# Setting up equations for both f(x) and f'(x)\n",
        "f = lambda x: x**2 - 2\n",
        "f_prime = lambda x: 2*x\n",
        "\n",
        "# newton_raphson is a variable representing xi.\n",
        "newton_raphson = 1.4 - (f(1.4))/(f_prime(1.4))\n",
        "\n",
        "# Printing the values of the computed and actual root.\n",
        "print(\"newton_raphson =\", newton_raphson)\n",
        "print(\"sqrt(2) =\", np.sqrt(2))"
      ],
      "metadata": {
        "id": "OtZjDczOsaYu"
      },
      "execution_count": null,
      "outputs": []
    },
    {
      "cell_type": "markdown",
      "source": [
        "Below is code from the textbook that uses a recursive method to compute the root of a function \"f\" within a tolerance \"tol\". Because the guesses from before and below are very close to the actual root, this method is considered more efficient; however, the guesses will not always be close since they are guesses. In addition, anytime *f*'(x) is close to 0 (which would make the ratio of *f*(x)/*f'*(x) a large number) the Newton will lead far from the root."
      ],
      "metadata": {
        "id": "S4nLVyFItTHF"
      }
    },
    {
      "cell_type": "code",
      "source": [
        "f = lambda x: x**2 - 2\n",
        "f_prime = lambda x: 2*x\n",
        "\n",
        "def my_newton(f, df, x0, tol):\n",
        "  if abs(f(x0)) < tol:\n",
        "    return x0\n",
        "  else:\n",
        "    return my_newton(f, df, x0 - f(x0)/df(x0), tol)\n",
        "\n",
        "estimate = my_newton(f, f_prime, 1.5, 1e-6)\n",
        "print(\"estimate =\", estimate)\n",
        "print(\"sqrt(2) =\", np.sqrt(2))"
      ],
      "metadata": {
        "colab": {
          "base_uri": "https://localhost:8080/"
        },
        "id": "xjYxVDhYtTMU",
        "outputId": "9320521f-d65d-4f22-ffa7-fece6606dd29"
      },
      "execution_count": 7,
      "outputs": [
        {
          "output_type": "stream",
          "name": "stdout",
          "text": [
            "estimate = 1.4142135623746899\n",
            "sqrt(2) = 1.4142135623730951\n"
          ]
        }
      ]
    }
  ]
}